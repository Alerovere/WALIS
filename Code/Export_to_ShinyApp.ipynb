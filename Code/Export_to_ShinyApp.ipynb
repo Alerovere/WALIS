{
 "cells": [
  {
   "cell_type": "markdown",
   "metadata": {},
   "source": [
    "# Export WALIS data for ShinyAppp"
   ]
  },
  {
   "cell_type": "markdown",
   "metadata": {},
   "source": [
    "This notebook contains the scripts to download the full WALIS database and prepare a CSV file for the R Shiny App hosted at: https://warmcoasts.shinyapps.io/WALIS_Visualization/"
   ]
  },
  {
   "cell_type": "markdown",
   "metadata": {},
   "source": [
    "## Dependencies and packages\n",
    "This notebook calls various scripts that are included in the \\scripts folder. The following is a list of the python libraries needed to run this notebook."
   ]
  },
  {
   "cell_type": "code",
   "execution_count": 1,
   "metadata": {},
   "outputs": [],
   "source": [
    "#Main packages\n",
    "import pandas as pd\n",
    "import pandas.io.sql as psql\n",
    "import geopandas\n",
    "import pygeos\n",
    "import numpy as np\n",
    "import mysql.connector\n",
    "from datetime import date\n",
    "import xlsxwriter as writer\n",
    "import math\n",
    "from scipy import optimize\n",
    "from scipy import stats\n",
    "\n",
    "#Plots\n",
    "import seaborn as sns\n",
    "import matplotlib.pyplot as plt\n",
    "from mpl_toolkits.axes_grid1 import make_axes_locatable\n",
    "\n",
    "#Jupyter data display\n",
    "import tqdm\n",
    "from tqdm.notebook import tqdm_notebook\n",
    "from IPython.display import *\n",
    "import ipywidgets as widgets\n",
    "from ipywidgets import *\n",
    "\n",
    "#Geographic \n",
    "from shapely.geometry import Point\n",
    "from shapely.geometry import box\n",
    "import cartopy as ccrs\n",
    "import cartopy.feature as cfeature\n",
    "\n",
    "#System\n",
    "import os\n",
    "import glob\n",
    "import shutil\n",
    "\n",
    "#pandas options for debugging\n",
    "pd.set_option('display.max_columns', None)\n",
    "pd.set_option('display.max_rows', None)\n",
    "\n",
    "#Set a date string for exported file names\n",
    "date=date.today()\n",
    "dt_string = date.strftime(\"_%d_%m_%Y\")\n",
    "\n",
    "# Ignore warnings\n",
    "import warnings\n",
    "warnings.simplefilter(action='ignore', category=FutureWarning)\n",
    "warnings.filterwarnings('ignore')"
   ]
  },
  {
   "cell_type": "markdown",
   "metadata": {},
   "source": [
    "## Import database\n",
    "Connect to the online MySQL database containing WALIS data and download data into a series of pandas data frames."
   ]
  },
  {
   "cell_type": "code",
   "execution_count": 2,
   "metadata": {
    "hide_input": false
   },
   "outputs": [
    {
     "data": {
      "application/vnd.jupyter.widget-view+json": {
       "model_id": "856aa41f03134d4c9d2953b03024add5",
       "version_major": 2,
       "version_minor": 0
      },
      "text/plain": [
       "Importing tables from WALIS:   0%|          | 0/19 [00:00<?, ?it/s]"
      ]
     },
     "metadata": {},
     "output_type": "display_data"
    }
   ],
   "source": [
    "## Connect to the WALIS database server\n",
    "%run -i scripts/connection.py\n",
    "\n",
    "## Import data tables and show progress bar\n",
    "with tqdm_notebook(total=len(SQLtables),desc='Importing tables from WALIS') as pbar:\n",
    " for i in range(len(SQLtables)): \n",
    "   query = \"SELECT * FROM {}\".format(SQLtables[i])\n",
    "   walis_dict[i] = psql.read_sql(query, con=db)\n",
    "   query2 = \"SHOW FULL COLUMNS FROM {}\".format(SQLtables[i])\n",
    "   walis_cols[i] = psql.read_sql(query2, con=db) \n",
    "   pbar.update(1)\n",
    "\n",
    "path = os.getcwd()\n",
    "CHECK_FOLDER = os.path.isdir('Output')\n",
    "Output = 'Output'\n",
    "if not CHECK_FOLDER:\n",
    " Output_path=os.path.join(path,Output)\n",
    " os.mkdir(Output_path)\n",
    "else:\n",
    " Output_path=os.path.join(path,Output)\n",
    "\n",
    "CHECK_FOLDER = os.path.isdir('Output/Shiny_input')    \n",
    "Shiny_app = 'Shiny_input'\n",
    "if not CHECK_FOLDER:\n",
    " Data_path=os.path.join(Output_path,Shiny_app)\n",
    " os.mkdir(Data_path)\n",
    "else:\n",
    " Data_path=os.path.join(Output_path,Shiny_app) "
   ]
  },
  {
   "cell_type": "markdown",
   "metadata": {},
   "source": [
    "The following scripts make connections between the data and produce the summary file, which will be processed in the next step."
   ]
  },
  {
   "cell_type": "code",
   "execution_count": 3,
   "metadata": {},
   "outputs": [
    {
     "name": "stdout",
     "output_type": "stream",
     "text": [
      "Extracting values for: WALIS Admin\n",
      "\n",
      "The database you are exporting contains:\n",
      "3999 RSL datapoints from stratigraphy\n",
      "463 RSL datapoints from single corals\n",
      "76 RSL datapoints from single speleothems\n",
      "30 RSL indicators\n",
      "19 Elevation measurement techniques\n",
      "11 Geographic positioning techniques\n",
      "28 Sea level datums\n",
      "2717 U-Series ages (including RSL datapoints from corals and speleothems)\n",
      "583 Amino Acid Racemization samples\n",
      "213 Electron Spin Resonance ages\n",
      "597 Luminescence ages\n",
      "120 Chronostratigraphic constraints\n",
      "160 Other age constraints\n",
      "2107 References\n",
      "We are substituting values in your dataframes....\n",
      "querying by user\n",
      "Putting nice names to the database columns....\n",
      "Done!!\n",
      "making summary table....\n",
      "Done!\n"
     ]
    }
   ],
   "source": [
    "%run -i scripts/select_user.py\n",
    "%run -i scripts/multi_author_query.py\n",
    "%run -i scripts/substitutions.py\n",
    "%run -i scripts/make_summary.py\n",
    "Summary.to_csv('Output/Shiny_input/Summary.csv',index = False,encoding='utf-8-sig')"
   ]
  },
  {
   "cell_type": "markdown",
   "metadata": {},
   "source": [
    "# Make data analysis\n",
    "This section takes the \"Summary.csv\" file and performs some basic data analysis on it.\n",
    "\n",
    "## RSL percentiles\n",
    "Then, the script takes information on relative sea level values and calculates RSL percentiles in the following way.\n",
    "1. If the RSL Indicator is a \"Single Coral\": the percentiles are obtained from a gamma function interpolated considering the upper limit of living range inserted in the database as, respectively, the 2.3 and 97.7 percentiles of the distribution.\n",
    "2. If the RSL Indicator is a \"Sea Level Indicator\" or \"Single Speleothem\": the percentiles on paleo RSL are calculated from the gaussian distribution represented by the field \"Paleo RSL (m)\" and its associated uncertainty (1-sigma).\n",
    "3. If the RSL Indicator is a \"Terrestrial Limiting\" or \"Marine Limiting\", the RSL percentiles are not calculated.\n",
    "\n",
    "## Age percentiles\n",
    "The following script takes information on age values and calculates age percentiles according to the table below. The following modifications are done on the original data:\n",
    " \n",
    " - If a percentile goes below zero, it is set to zero.\n",
    " - If Lower age > Upper age, the two values are reversed.\n",
    " - If there is no age, the corresponding record is deleted.\n",
    " \n",
    " | Dating technique | Pre-selection | Lower age | Age (ka) 0.1 perc | Age (ka) 2.3 perc | Age (ka) 15.9 perc | Age (ka) 50 perc | Age (ka) 84.1 perc | Age (ka) 97.7 perc | Age (ka) 99.5 perc | Upper age |\n",
    "|-|-|-|-|-|-|-|-|-|-|-|\n",
    "| U-series / coral | Recalculated age used if available. If not, Reported age is used | NaN | Average age - 3 Sigma age | Average age - 2 Sigma age | Average age - 1 Sigma age | Average age | Average age + 1 Sigma age | Average age + 2 Sigma age | Average age + 3 Sigma age | NaN |\n",
    "| U-series / speleothem | Recalculated age used if available. If not, Reported age is used | NaN | Average age - 3 Sigma age | Average age - 2 Sigma age | Average age - 1 Sigma age | Average age | Average age + 1 Sigma age | Average age + 2 Sigma age | Average age + 3 Sigma age | NaN |\n",
    "| U-series / mollusks or algae | Upper and lower age derived from the MIS to which the sample is associated with | Lower age |<--|--|--| Uniform distribution |--|--|-->| Upper age |\n",
    "| AAR / Age reported | | NaN | Average age - 3 Sigma age | Average age - 2 Sigma age | Average age - 1 Sigma age | Average age | Average age + 1 Sigma age | Average age + 2 Sigma age | Average age + 3 Sigma age | NaN |\n",
    "| AAR / Only MIS reported | Upper and lower age derived from the MIS to which the sample is associated with | Lower age |<--|--|--| Uniform distribution |--|--|-->| Upper age |\n",
    "| ESR / Age reported | | NaN | Average age - 3 Sigma age | Average age - 2 Sigma age | Average age - 1 Sigma age | Average age | Average age + 1 Sigma age | Average age + 2 Sigma age | Average age + 3 Sigma age | NaN |\n",
    "| ESR / Only MIS reported | Upper and lower age derived from the MIS to which the sample is associated with | Lower age |<--|--|--| Uniform distribution |--|--|-->| Upper age |\n",
    "| Luminescence / Age reported | | NaN | Average age - 3 Sigma age | Average age - 2 Sigma age | Average age - 1 Sigma age | Average age | Average age + 1 Sigma age | Average age + 2 Sigma age | Average age + 3 Sigma age | NaN |\n",
    "| Luminescence / Only MIS reported | Upper and lower age derived from the MIS to which the sample is associated with | Lower age |<--|--|--| Uniform distribution |--|--|-->| Upper age |\n",
    "| Stratigraphic constraint / Age reported| Upper and lower age derived from the reported age | Lower age |<--|--|--| Uniform distribution |--|--|-->| Upper age |\n",
    "| Stratigraphic constraint / Only MIS reported| Upper and lower age derived from the MIS to which the sample is associated with | Lower age |<--|--|--| Uniform distribution |--|--|-->| Upper age |\n",
    "| Other age constraint / Age reported| Upper and lower age derived from the reported age | Lower age |<--|--|--| Uniform distribution |--|--|-->| Upper age |\n",
    "| Other age constraint / Only MIS reported| Upper and lower age derived from the MIS to which the sample is associated with | Lower age |<--|--|--| Uniform distribution |--|--|-->| Upper age |"
   ]
  },
  {
   "cell_type": "code",
   "execution_count": 5,
   "metadata": {},
   "outputs": [
    {
     "name": "stdout",
     "output_type": "stream",
     "text": [
      "Age substitutions done!\n",
      "RSL indicators from stratigraphy done!\n",
      "Starting calculations of gamma distribution for corals (will take a while...)\n",
      "Done!\n",
      "RSL indicators for speleothems done!\n",
      "The dataframe has 0 points with no Elevation\n",
      "The dataframe has 0 points with no Elevation error\n",
      "The dataframe has 8 points with no age\n",
      "Data with no Elevation information or age has been discarded\n",
      "Your file has been saved!\n"
     ]
    }
   ],
   "source": [
    "%run -i scripts/percentiles_from_summary.py"
   ]
  },
  {
   "cell_type": "markdown",
   "metadata": {},
   "source": [
    "# Suggested acknowledgments\n",
    "WALIS is the result of the work of several people, within different projects. For this reason, we kindly ask you to follow these simple rules to properly acknowledge those who worked on it:\n",
    "\n",
    "1. Cite the original authors - Please maintain the original citations for each datapoint, to give proper credit to those who worked to collect the original data in the field or in the lab.\n",
    "2. Acknowledge the database contributor - The name of each contributor is listed in all public datapoints. This is the data creator, who spent time to make sure the data is standardized and (as much as possible) free of errors.\n",
    "3. Acknowledge the database structure and interface creators - The database template used in this study was developed by the ERC Starting Grant \"WARMCOASTS\" (ERC-StG-802414) and is a community effort under the PALSEA (PAGES / INQUA) working group.\n",
    "\n",
    "Example of acknowledgments: The data used in this study were *[extracted from / compiled in]* WALIS, a sea-level database interface developed by the ERC Starting Grant \"WARMCOASTS\" (ERC-StG-802414), in collaboration with PALSEA (PAGES / INQUA) working group. The database structure was designed by A. Rovere, D. Ryan, T. Lorscheid, A. Dutton, P. Chutcharavan, D. Brill, N. Jankowski, D. Mueller, M. Bartz, E. Gowan and K. Cohen. The data points used in this study were contributed to WALIS by *[list names of contributors here]*."
   ]
  }
 ],
 "metadata": {
  "kernelspec": {
   "display_name": "Python 3 (ipykernel)",
   "language": "python",
   "name": "python3"
  },
  "language_info": {
   "codemirror_mode": {
    "name": "ipython",
    "version": 3
   },
   "file_extension": ".py",
   "mimetype": "text/x-python",
   "name": "python",
   "nbconvert_exporter": "python",
   "pygments_lexer": "ipython3",
   "version": "3.7.11"
  }
 },
 "nbformat": 4,
 "nbformat_minor": 2
}

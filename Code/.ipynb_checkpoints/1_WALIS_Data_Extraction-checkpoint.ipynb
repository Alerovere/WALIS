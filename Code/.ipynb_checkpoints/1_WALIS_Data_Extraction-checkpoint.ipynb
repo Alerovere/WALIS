{
 "cells": [
  {
   "cell_type": "markdown",
   "metadata": {},
   "source": [
    "# Data extraction, formatting, and export from the WALIS database"
   ]
  },
  {
   "cell_type": "markdown",
   "metadata": {},
   "source": [
    "This notebook contains scripts that allow querying and extracting data from the \"World Atlas of Last Interglacial Shorelines\" (WALIS) database. The notebook calls scripts contained in the /scripts folder. After downloading the database (internet connection required), field headers are renamed, and field values are substituted, following 1:n or n:n relationships. The tables composing the database are then saved in CSV, Xls (multi-sheet), and geoJSON formats."
   ]
  },
  {
   "cell_type": "markdown",
   "metadata": {},
   "source": [
    "## Dependencies and packages\n",
    "This notebook calls various scripts that are included in the \\scripts folder. The following is a list of the python libraries needed to run this notebook."
   ]
  },
  {
   "cell_type": "code",
   "execution_count": 1,
   "metadata": {},
   "outputs": [
    {
     "name": "stderr",
     "output_type": "stream",
     "text": [
      "/Users/alessiorovere/opt/anaconda3/envs/WALIS_Database/lib/python3.7/site-packages/geopandas/_compat.py:115: UserWarning: The Shapely GEOS version (3.8.0-CAPI-1.13.1 ) is incompatible with the GEOS version PyGEOS was compiled with (3.9.1-CAPI-1.14.2). Conversions between both will be slow.\n",
      "  shapely_geos_version, geos_capi_version_string\n"
     ]
    }
   ],
   "source": [
    "import pandas as pd\n",
    "import MySQLdb\n",
    "import pandas.io.sql as psql\n",
    "import numpy as np\n",
    "import xlsxwriter as writer\n",
    "from datetime import date\n",
    "import tqdm\n",
    "from tqdm.notebook import tqdm_notebook\n",
    "from IPython.display import *\n",
    "import ipywidgets as widgets\n",
    "from ipywidgets import *\n",
    "import matplotlib.pyplot as plt\n",
    "from shapely.geometry import Point\n",
    "import geopandas\n",
    "import os\n",
    "import glob\n",
    "import shutil\n",
    "import contextily as ctx\n",
    "import folium\n",
    "from shapely.geometry import box\n",
    "import folium\n",
    "import folium.plugins as plugins\n",
    "from folium.plugins import MarkerCluster\n",
    "from folium.plugins import Search    \n",
    "import seaborn as sns\n",
    "import math\n",
    "from mpl_toolkits.axes_grid1 import make_axes_locatable\n",
    "from scipy import optimize\n",
    "from scipy import stats\n",
    "import functools\n",
    "import warnings\n",
    "from bokeh.tile_providers import get_provider, Vendors\n",
    "from bokeh.io import output_file, output_notebook, show\n",
    "from bokeh.plotting import figure, ColumnDataSource\n",
    "from bokeh.palettes import Spectral6\n",
    "from bokeh.transform import linear_cmap\n",
    "import bokeh.layouts\n",
    "from bokeh.layouts import gridplot\n",
    "from bokeh.models import ColorBar, ColumnDataSource\n",
    "from bokeh.plotting import figure, output_file, save\n",
    "from bokeh.models import BoxZoomTool\n",
    "from ipywidgets import Box\n",
    "\n",
    "# Ignore warning 'FutureWarning'\n",
    "warnings.simplefilter(action='ignore', category=FutureWarning)\n",
    "\n",
    "#pandas options for debugging\n",
    "pd.set_option('display.max_columns', None)\n",
    "pd.set_option('display.max_rows', None)\n",
    "\n",
    "#Set a date string for exported file names\n",
    "date=date.today()\n",
    "dt_string = date.strftime(\"_%d_%m_%Y\")\n",
    "\n",
    "warnings.filterwarnings('ignore')"
   ]
  },
  {
   "cell_type": "markdown",
   "metadata": {},
   "source": [
    "## Import database\n",
    "Connect to the online MySQL database containing WALIS data and download data into a series of pandas data frames."
   ]
  },
  {
   "cell_type": "code",
   "execution_count": 4,
   "metadata": {
    "hide_input": false
   },
   "outputs": [
    {
     "data": {
      "application/vnd.jupyter.widget-view+json": {
       "model_id": "63f7cb2bba6f4d65a21864c30c11203e",
       "version_major": 2,
       "version_minor": 0
      },
      "text/plain": [
       "Importing tables from WALIS:   0%|          | 0/19 [00:00<?, ?it/s]"
      ]
     },
     "metadata": {},
     "output_type": "display_data"
    }
   ],
   "source": [
    "## Connect to the WALIS database server\n",
    "%run -i scripts/connection.py\n",
    "\n",
    "## Import data tables and show progress bar\n",
    "with tqdm_notebook(total=len(SQLtables),desc='Importing tables from WALIS') as pbar:\n",
    " for i in range(len(SQLtables)): \n",
    "   query = \"SELECT * FROM {}\".format(SQLtables[i])\n",
    "   walis_dict[i] = psql.read_sql(query, con=db)\n",
    "   query2 = \"SHOW FULL COLUMNS FROM {}\".format(SQLtables[i])\n",
    "   walis_cols[i] = psql.read_sql(query2, con=db) \n",
    "   pbar.update(1)"
   ]
  },
  {
   "cell_type": "markdown",
   "metadata": {},
   "source": [
    "Delete all data in the output folder and save a csv file containing table column descriptions."
   ]
  },
  {
   "cell_type": "code",
   "execution_count": null,
   "metadata": {},
   "outputs": [],
   "source": [
    "%run -i scripts/create_outfolder.py"
   ]
  },
  {
   "cell_type": "markdown",
   "metadata": {},
   "source": [
    "## Query the database\n",
    "Now, the data is ready to be queried according to a user input. There are three ways to extact data of interest from WALIS. Run either one and proceed.\n",
    "\n",
    "1. [Select by author](#Query-option-1---Select-by-author)\n",
    "2. [Select by geographic coordinates](#Query-option-2---Select-by-geographic-extent)\n",
    "3. [Select by country](#Query-Option-3---Select-by-country)"
   ]
  },
  {
   "cell_type": "markdown",
   "metadata": {},
   "source": [
    "### Query option 1 - Select by author\n",
    "\n",
    "This option compiles data from multiple users who collaborated to create regional datasets for the WALIS Special Issue in ESSD. Select \"WALIS Admin\" in the dropdown menu if you want to extract the entire database.\n",
    "\n",
    "**NOTE: If you want to change users, just re-run this cell and select a different set of values**"
   ]
  },
  {
   "cell_type": "code",
   "execution_count": null,
   "metadata": {},
   "outputs": [],
   "source": [
    "%run -i scripts/select_user.py\n",
    "multiUsr"
   ]
  },
  {
   "cell_type": "markdown",
   "metadata": {},
   "source": [
    "Once the selection is done, run the following cell to query the database and extract only the data inserted by the selected user(s)"
   ]
  },
  {
   "cell_type": "code",
   "execution_count": null,
   "metadata": {},
   "outputs": [],
   "source": [
    "%run -i scripts/multi_author_query.py"
   ]
  },
  {
   "cell_type": "markdown",
   "metadata": {},
   "source": [
    "### Query option 2 - Select by geographic extent\n",
    "This option allows the download of data by geographic extent, defined as maximum-minimum bounds on Latitude and Longitude. Use this website to quickly find bounding coordinates: http://bboxfinder.com."
   ]
  },
  {
   "cell_type": "code",
   "execution_count": null,
   "metadata": {},
   "outputs": [],
   "source": [
    "# bounding box coordinates in decimal degrees (x=Lon, y=Lat)\n",
    "xmin=-100\n",
    "xmax=50\n",
    "ymin=-80\n",
    "ymax=80"
   ]
  },
  {
   "cell_type": "code",
   "execution_count": null,
   "metadata": {},
   "outputs": [],
   "source": [
    "# From the dictionary in connection.py, extract the dataframes\n",
    "%run -i scripts/geoextent_query.py"
   ]
  },
  {
   "cell_type": "markdown",
   "metadata": {},
   "source": [
    "### Query Option 3 - Select by country\n",
    "This option allows compiling data from one or more countries."
   ]
  },
  {
   "cell_type": "code",
   "execution_count": null,
   "metadata": {},
   "outputs": [],
   "source": [
    "%run -i scripts/select_country.py\n",
    "select_country"
   ]
  },
  {
   "cell_type": "code",
   "execution_count": null,
   "metadata": {},
   "outputs": [],
   "source": [
    "%run -i scripts/country_query.py"
   ]
  },
  {
   "cell_type": "markdown",
   "metadata": {},
   "source": [
    "## Substitute data codes \n",
    "The following code makes joins between the data, substituting numerical or comma-separated codes with the corresponding text values.\n",
    "\n",
    "**WARNING - MODIFICATIONS TO THE ORIGINAL DATA**\n",
    "\n",
    "<u>The following adjustments to the data are made:</u>\n",
    "1. If there is an age in ka, but the uncertainty field is empty, the age uncertainty is set to 30%\n",
    "2. If the \"timing constraint\" is missing, the \"MIS limit\" is taken. If still empty, it is set to \"Equal to\""
   ]
  },
  {
   "cell_type": "code",
   "execution_count": null,
   "metadata": {},
   "outputs": [],
   "source": [
    "%run -i scripts/substitutions.py\n",
    "%run -i scripts/make_summary.py"
   ]
  },
  {
   "cell_type": "markdown",
   "metadata": {},
   "source": [
    "## Write output\n",
    "The following scripts save the data in Xlsx, CSV, and geoJSON format (for use in GIS software)."
   ]
  },
  {
   "cell_type": "code",
   "execution_count": null,
   "metadata": {
    "scrolled": true
   },
   "outputs": [],
   "source": [
    "%run -i scripts/write_spreadsheets.py\n",
    "%run -i scripts/write_geojson.py\n",
    "print ('Done!')"
   ]
  },
  {
   "cell_type": "markdown",
   "metadata": {},
   "source": [
    "# Suggested acknowledgments\n",
    "WALIS is the result of the work of several people, within different projects. For this reason, we kindly ask you to follow these simple rules to properly acknowledge those who worked on it:\n",
    "\n",
    "1. Cite the original authors - Please maintain the original citations for each datapoint, to give proper credit to those who worked to collect the original data in the field or in the lab.\n",
    "2. Acknowledge the database contributor - The name of each contributor is listed in all public datapoints. This is the data creator, who spent time to make sure the data is standardized and (as much as possible) free of errors.\n",
    "3. Acknowledge the database structure and interface creators - The database template used in this study was developed by the ERC Starting Grant \"WARMCOASTS\" (ERC-StG-802414) and is a community effort under the PALSEA (PAGES / INQUA) working group.\n",
    "\n",
    "Example of acknowledgments: The data used in this study were *[extracted from / compiled in]* WALIS, a sea-level database interface developed by the ERC Starting Grant \"WARMCOASTS\" (ERC-StG-802414), in collaboration with PALSEA (PAGES / INQUA) working group. The database structure was designed by A. Rovere, D. Ryan, T. Lorscheid, A. Dutton, P. Chutcharavan, D. Brill, N. Jankowski, D. Mueller, M. Bartz, E. Gowan and K. Cohen. The data points used in this study were contributed to WALIS by *[list names of contributors here]*."
   ]
  }
 ],
 "metadata": {
  "kernelspec": {
   "display_name": "Python 3 (ipykernel)",
   "language": "python",
   "name": "python3"
  },
  "language_info": {
   "codemirror_mode": {
    "name": "ipython",
    "version": 3
   },
   "file_extension": ".py",
   "mimetype": "text/x-python",
   "name": "python",
   "nbconvert_exporter": "python",
   "pygments_lexer": "ipython3",
   "version": "3.7.11"
  }
 },
 "nbformat": 4,
 "nbformat_minor": 2
}

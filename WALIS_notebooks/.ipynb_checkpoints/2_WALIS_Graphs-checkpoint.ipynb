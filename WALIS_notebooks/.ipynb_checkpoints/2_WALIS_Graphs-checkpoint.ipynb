{
 "cells": [
  {
   "cell_type": "markdown",
   "metadata": {},
   "source": [
    "# Exploratory data plots on the WALIS database"
   ]
  },
  {
   "cell_type": "markdown",
   "metadata": {},
   "source": [
    "This notebook takes the data queried by the notebook \"WALIS_Data_Extraction\" and makes several graphs from the data exported."
   ]
  },
  {
   "cell_type": "markdown",
   "metadata": {},
   "source": [
    "## Dependencies and packages\n",
    "This notebook calls various scripts that are included in the \\scripts folder. The following is a list of the python libraries needed to run this notebook."
   ]
  },
  {
   "cell_type": "code",
   "execution_count": 2,
   "metadata": {},
   "outputs": [
    {
     "name": "stderr",
     "output_type": "stream",
     "text": [
      "/Users/alessiorovere/opt/anaconda3/envs/WALIS_Database/lib/python3.7/site-packages/geopandas/_compat.py:115: UserWarning: The Shapely GEOS version (3.8.0-CAPI-1.13.1 ) is incompatible with the GEOS version PyGEOS was compiled with (3.9.1-CAPI-1.14.2). Conversions between both will be slow.\n",
      "  shapely_geos_version, geos_capi_version_string\n"
     ]
    }
   ],
   "source": [
    "import pandas as pd\n",
    "import MySQLdb\n",
    "import pandas.io.sql as psql\n",
    "import numpy as np\n",
    "import xlsxwriter as writer\n",
    "from datetime import date\n",
    "import tqdm\n",
    "from tqdm.notebook import tqdm_notebook\n",
    "from IPython.display import *\n",
    "import ipywidgets as widgets\n",
    "from ipywidgets import *\n",
    "import matplotlib.pyplot as plt\n",
    "from shapely.geometry import Point\n",
    "import geopandas\n",
    "import os\n",
    "import glob\n",
    "import shutil\n",
    "import contextily as ctx\n",
    "import folium\n",
    "from shapely.geometry import box\n",
    "import folium\n",
    "import folium.plugins as plugins\n",
    "from folium.plugins import MarkerCluster\n",
    "from folium.plugins import Search    \n",
    "import seaborn as sns\n",
    "import math\n",
    "from mpl_toolkits.axes_grid1 import make_axes_locatable\n",
    "from scipy import optimize\n",
    "from scipy import stats\n",
    "import functools\n",
    "import warnings\n",
    "from bokeh.tile_providers import get_provider, Vendors\n",
    "from bokeh.io import output_file, output_notebook, show\n",
    "from bokeh.plotting import figure, ColumnDataSource\n",
    "from bokeh.palettes import Spectral6\n",
    "from bokeh.transform import linear_cmap\n",
    "import bokeh.layouts\n",
    "from bokeh.layouts import gridplot\n",
    "from bokeh.models import ColorBar, ColumnDataSource\n",
    "from bokeh.plotting import figure, output_file, save\n",
    "from bokeh.models import BoxZoomTool\n",
    "from ipywidgets import Box\n",
    "\n",
    "# Ignore warning 'FutureWarning'\n",
    "warnings.simplefilter(action='ignore', category=FutureWarning)\n",
    "\n",
    "#pandas options for debugging\n",
    "pd.set_option('display.max_columns', None)\n",
    "pd.set_option('display.max_rows', None)\n",
    "\n",
    "#Set a date string for exported file names\n",
    "date=date.today()\n",
    "dt_string = date.strftime(\"_%d_%m_%Y\")\n",
    "\n",
    "warnings.filterwarnings('ignore')"
   ]
  },
  {
   "cell_type": "markdown",
   "metadata": {},
   "source": [
    "## Import data\n",
    "Data are imported from the output folder"
   ]
  },
  {
   "cell_type": "code",
   "execution_count": 5,
   "metadata": {},
   "outputs": [],
   "source": [
    "RSL_Datapoints=pd.read_csv('Output/data/csv/RSL_proxies.csv')\n",
    "aar=pd.read_csv('Output/data/csv/Amino_Acid_Racemization.csv')\n",
    "esr=pd.read_csv('Output/data/csv/Electron_Spin_Resonance.csv')\n",
    "lum=pd.read_csv('Output/data/csv/Luminescence.csv')\n",
    "useries=pd.read_csv('Output/data/csv/Luminescence.csv')\n",
    "strat=\n",
    "other="
   ]
  },
  {
   "cell_type": "markdown",
   "metadata": {},
   "source": [
    "## Explore queried data through graphs\n",
    "The following scrips produce a series of images representing different aspects of the data included in the database. Each graph is saved in the \"Output/Images\" folder in svg format.\n",
    "\n",
    "The following graphs can be plotted:\n",
    "1. [Monthly data insertion/update](#Monthly-data-insertion/update)\n",
    "2. [References by year of publication](#References-by-year-of-publication)\n",
    "3. [Elevation errors](#Elevation-errors)\n",
    "4. [Sea level index points](#Sea-level-index-points)\n",
    "5. [Elevation and positioning histograms](#Elevation-and-positioning-histograms)\n",
    "6. [Quality plots](#Quality-plots)"
   ]
  },
  {
   "cell_type": "markdown",
   "metadata": {},
   "source": [
    "### Monthly data insertion/update\n",
    "This graph explores the timeline of data insertion or update in WALIS since its inception. Peaks in this graph correspond to data updated in bulk by the admin. "
   ]
  },
  {
   "cell_type": "code",
   "execution_count": null,
   "metadata": {},
   "outputs": [],
   "source": [
    "%run -i scripts/Database_contributions.py"
   ]
  },
  {
   "cell_type": "markdown",
   "metadata": {},
   "source": [
    "### References by year of publication\n",
    "This graph shows the year of publication of the manuscripts included in the WALIS \"References\" table. Note that these might not all be used in further data compilations."
   ]
  },
  {
   "cell_type": "code",
   "execution_count": null,
   "metadata": {},
   "outputs": [],
   "source": [
    "%run -i scripts/References_hist.py"
   ]
  },
  {
   "cell_type": "markdown",
   "metadata": {},
   "source": [
    "### Elevation errors\n",
    "These two graphs show the measured elevation errors (plotted as Kernel Density Estimate) reported for sea-level data within WALIS. These include \"RSL from statigraphy\" data points and single coral or speleothems indicating former RSL positions. The difference in the two plots resides in the treatment of outliers. Points having elevation uncertainties higher than 3.5 times the median absolute deviation are excluded from the graph in the left. All points are considered on the graph on the right side.\n",
    "\n",
    "The outlier exclusion is bases on this reference:\n",
    ">Boris Iglewicz and David Hoaglin (1993), \"Volume 16: How to Detect and Handle Outliers\", The ASQC Basic References in Quality Control: Statistical Techniques, Edward F. Mykytka, Ph.D., Editor.\n",
    "\n",
    "And was derived from this link: https://stackoverflow.com/questions/11882393/matplotlib-disregard-outliers-when-plotting"
   ]
  },
  {
   "cell_type": "code",
   "execution_count": null,
   "metadata": {},
   "outputs": [],
   "source": [
    "%run -i scripts/Elevation_error.py"
   ]
  },
  {
   "cell_type": "markdown",
   "metadata": {},
   "source": [
    "### Sea level index points \n",
    "This graph shows the frequency of sea-level indicator types within the query."
   ]
  },
  {
   "cell_type": "code",
   "execution_count": null,
   "metadata": {},
   "outputs": [],
   "source": [
    "%run -i scripts/SL_Ind_Hist.py"
   ]
  },
  {
   "cell_type": "markdown",
   "metadata": {},
   "source": [
    "### Elevation and positioning histograms\n",
    "These graphs show the distributions of the elevation metadata (Elevation measurement technique and sea-level datum) used to describe sea-level datapoints in WALIS."
   ]
  },
  {
   "cell_type": "code",
   "execution_count": null,
   "metadata": {},
   "outputs": [],
   "source": [
    "%run -i scripts/Vrt_meas_hist.py"
   ]
  },
  {
   "cell_type": "code",
   "execution_count": null,
   "metadata": {},
   "outputs": [],
   "source": [
    "%run -i scripts/SL_datum_hist.py"
   ]
  },
  {
   "cell_type": "markdown",
   "metadata": {},
   "source": [
    "### Quality plots\n",
    "The RSL datapoints from stratigraphy contain two \"data quality\" fields, one for age and one for RSL information. Database compilers scored each site following standard guidelines (as per database documentation). This plot shows these quality scores plotted against each other. As the quality scores of one area can be better appreciated by comparison with other areas, a selection tool to filter the data by Nation is provided."
   ]
  },
  {
   "cell_type": "markdown",
   "metadata": {},
   "source": [
    "#### Compare two nations"
   ]
  },
  {
   "cell_type": "code",
   "execution_count": null,
   "metadata": {},
   "outputs": [],
   "source": [
    "%run -i scripts/select_nation.py\n",
    "box"
   ]
  },
  {
   "cell_type": "code",
   "execution_count": null,
   "metadata": {},
   "outputs": [],
   "source": [
    "%run -i scripts/Quality.py"
   ]
  },
  {
   "cell_type": "markdown",
   "metadata": {},
   "source": [
    "### Maps"
   ]
  },
  {
   "cell_type": "code",
   "execution_count": null,
   "metadata": {},
   "outputs": [],
   "source": [
    "# Set the elevation range for color scale in map\n",
    "min_elev=-50\n",
    "max_elev=50"
   ]
  },
  {
   "cell_type": "code",
   "execution_count": null,
   "metadata": {},
   "outputs": [],
   "source": [
    "# Make map figure\n",
    "unc_plot = Summary.copy()\n",
    "unc_plot.drop_duplicates(subset=['WALIS_ID'],inplace=True)\n",
    "fig, ax = plt.subplots(figsize = (20,12))\n",
    "#Set limits for X and Y axis\n",
    "xlim = ([unc_plot.total_bounds[0]-2,  unc_plot.total_bounds[2]+2])\n",
    "ylim = ([unc_plot.total_bounds[1]-2,  unc_plot.total_bounds[3]+2])\n",
    "ax.set_xlim(xlim)\n",
    "ax.set_ylim(ylim)\n",
    "ax.set_axis_off()\n",
    "ax.set_title('Sea level index points inserted by {} unique users'.format(num))\n",
    "# Plot points and basemap\n",
    "attribution=ctx.providers.Stamen.TerrainBackground.attribution\n",
    "mapsource=ctx.providers.Stamen.TerrainBackground\n",
    "points=ax.scatter(unc_plot.Longitude, unc_plot.Latitude,\n",
    "            marker='o',s=150,c=unc_plot['Elevation (m)'],\n",
    "            vmin=min_elev,vmax=max_elev,alpha=0.7,cmap='coolwarm',edgecolors='k')\n",
    "ctx.add_basemap(ax, crs='EPSG:4326',source=mapsource)\n",
    "\n",
    "divider = make_axes_locatable(ax)\n",
    "cax = divider.append_axes(\"right\", size=\"5%\", pad=0.05)\n",
    "cb=plt.colorbar(points, cax=cax)\n",
    "cb.set_label(label='Elevation of sea-level proxies (m)',fontsize=18)\n",
    "cax.tick_params(labelsize=18) \n",
    "plt.savefig('Output/Images/map.svg', dpi=300)\n",
    "\n",
    "# Maps of dated samples\n",
    "# create dataframes with strat and other data\n",
    "map_strat=RSL_Datapoints.replace('',np.nan).dropna(axis=0,subset=['Stratigraphic context/age IDs']).drop_duplicates(subset=['WALIS RSL ID'])\n",
    "map_other=RSL_Datapoints.replace('',np.nan).dropna(axis=0,subset=['Other age constraints IDs']).drop_duplicates(subset=['WALIS RSL ID'])\n",
    "\n",
    "attribution=ctx.providers.Stamen.TerrainBackground.attribution\n",
    "mapsource=ctx.providers.Stamen.TerrainBackground\n",
    "\n",
    "if not useries_corals.empty:\n",
    "    fig,ax = plt.subplots(figsize = (8,4))\n",
    "    xlim = ([unc_plot.total_bounds[0]-2,  unc_plot.total_bounds[2]+2])\n",
    "    ylim = ([unc_plot.total_bounds[1]-2,  unc_plot.total_bounds[3]+2])\n",
    "    ax.set_xlim(xlim)\n",
    "    ax.set_ylim(ylim)\n",
    "    ax.set_axis_off()\n",
    "    ax.set_title('Coral U-Series (n={})'.format(len(useries_corals)),fontsize=18)\n",
    "    points=ax.scatter(useries_corals['Longitude (decimal degrees)'].astype(float),\n",
    "               useries_corals['Latitude (decimal degrees)'].astype(float),\n",
    "               marker='o',s=150,alpha=0.3,edgecolors='k',c='white')\n",
    "    ctx.add_basemap(ax, crs='EPSG:4326',source=mapsource)\n",
    "    plt.savefig('Output/Images/useries_corals_map.svg', dpi=300)\n",
    "\n",
    "if not useries_oolite.empty:\n",
    "    fig,ax = plt.subplots(figsize = (8,4))\n",
    "    xlim = ([unc_plot.total_bounds[0]-2,  unc_plot.total_bounds[2]+2])\n",
    "    ylim = ([unc_plot.total_bounds[1]-2,  unc_plot.total_bounds[3]+2])\n",
    "    ax.set_xlim(xlim)\n",
    "    ax.set_ylim(ylim)\n",
    "    ax.set_axis_off()\n",
    "    ax.set_title('Oolites U-Series (n={})'.format(len(useries_oolite)),fontsize=18)\n",
    "    points=ax.scatter(useries_oolite['Longitude (decimal degrees)'].astype(float),\n",
    "               useries_oolite['Latitude (decimal degrees)'].astype(float),\n",
    "               marker='o',s=150,alpha=0.3,edgecolors='k',c='white')\n",
    "    ctx.add_basemap(ax, crs='EPSG:4326',source=mapsource)\n",
    "    plt.savefig('Output/Images/useries_oolites_map.svg', dpi=300)\n",
    "\n",
    "if not useries_speleo.empty:\n",
    "    fig,ax = plt.subplots(figsize = (8,4))\n",
    "    xlim = ([unc_plot.total_bounds[0]-2,  unc_plot.total_bounds[2]+2])\n",
    "    ylim = ([unc_plot.total_bounds[1]-2,  unc_plot.total_bounds[3]+2])\n",
    "    ax.set_xlim(xlim)\n",
    "    ax.set_ylim(ylim)\n",
    "    ax.set_axis_off()\n",
    "    ax.set_title('Speleothems U-Series (n={})'.format(len(useries_speleo)),fontsize=18)\n",
    "    points=ax.scatter(useries_speleo['Longitude (decimal degrees)'].astype(float),\n",
    "               useries_speleo['Latitude (decimal degrees)'].astype(float),\n",
    "               marker='o',s=150,alpha=0.3,edgecolors='k',c='white')\n",
    "    ctx.add_basemap(ax, crs='EPSG:4326',source=mapsource)\n",
    "    plt.savefig('Output/Images/useries_speleo_map.svg', dpi=300)\n",
    "\n",
    "if not useries_moll.empty:\n",
    "    fig,ax = plt.subplots(figsize = (8,4))\n",
    "    xlim = ([unc_plot.total_bounds[0]-2,  unc_plot.total_bounds[2]+2])\n",
    "    ylim = ([unc_plot.total_bounds[1]-2,  unc_plot.total_bounds[3]+2])\n",
    "    ax.set_xlim(xlim)\n",
    "    ax.set_ylim(ylim)\n",
    "    ax.set_axis_off()\n",
    "    ax.set_title('Mollusks or algae U-Series (n={})'.format(len(useries_moll)),fontsize=18)\n",
    "    points=ax.scatter(useries_moll['Longitude (decimal degrees)'].astype(float),\n",
    "               useries_moll['Latitude (decimal degrees)'].astype(float),\n",
    "               marker='o',s=150,alpha=0.3,edgecolors='k',c='white')\n",
    "    ctx.add_basemap(ax, crs='EPSG:4326',source=mapsource)\n",
    "    plt.savefig('Output/Images/useries_mollusks_map.svg', dpi=300)\n",
    "    \n",
    "if not aar.empty:\n",
    "    fig,ax = plt.subplots(figsize = (8,4))\n",
    "    xlim = ([unc_plot.total_bounds[0]-2,  unc_plot.total_bounds[2]+2])\n",
    "    ylim = ([unc_plot.total_bounds[1]-2,  unc_plot.total_bounds[3]+2])\n",
    "    ax.set_xlim(xlim)\n",
    "    ax.set_ylim(ylim)\n",
    "    ax.set_axis_off()\n",
    "    ax.set_title('Amino Acid Racemization (n={})'.format(len(aar)),fontsize=18)\n",
    "    points=ax.scatter(aar['Longitude (decimal degrees)'].astype(float),\n",
    "               aar['Latitude (decimal degrees)'].astype(float),\n",
    "               marker='o',s=150,alpha=0.3,edgecolors='k',c='white')\n",
    "    ctx.add_basemap(ax, crs='EPSG:4326',source=mapsource)\n",
    "    plt.savefig('Output/Images/aar_map.svg', dpi=300)\n",
    "\n",
    "if not lum.empty:\n",
    "    fig,ax = plt.subplots(figsize = (8,4))\n",
    "    xlim = ([unc_plot.total_bounds[0]-2,  unc_plot.total_bounds[2]+2])\n",
    "    ylim = ([unc_plot.total_bounds[1]-2,  unc_plot.total_bounds[3]+2])\n",
    "    ax.set_xlim(xlim)\n",
    "    ax.set_ylim(ylim)\n",
    "    ax.set_axis_off()\n",
    "    ax.set_title('Luminescence (n={})'.format(len(lum)),fontsize=18)\n",
    "    points=ax.scatter(lum['Sample longitude (decimal degrees)'].astype(float),\n",
    "               lum['Sample latitude (decimal degrees)'].astype(float),\n",
    "               marker='o',s=150,alpha=0.3,edgecolors='k',c='white')\n",
    "    ctx.add_basemap(ax, crs='EPSG:4326',source=mapsource)\n",
    "    plt.savefig('Output/Images/luminescence_map.svg', dpi=300)\n",
    "\n",
    "if not esr.empty:\n",
    "    fig,ax = plt.subplots(figsize = (8,4))\n",
    "    xlim = ([unc_plot.total_bounds[0]-2,  unc_plot.total_bounds[2]+2])\n",
    "    ylim = ([unc_plot.total_bounds[1]-2,  unc_plot.total_bounds[3]+2])\n",
    "    ax.set_xlim(xlim)\n",
    "    ax.set_ylim(ylim)\n",
    "    ax.set_axis_off()\n",
    "    ax.set_title('Electron Spin Resonance (n={})'.format(len(esr)),fontsize=18)\n",
    "    points=ax.scatter(esr['Longitude (decimal degrees)'].astype(float),\n",
    "               esr['Latitude (decimal degrees)'].astype(float),\n",
    "               marker='o',s=150,alpha=0.3,edgecolors='k',c='white')\n",
    "    ctx.add_basemap(ax, crs='EPSG:4326',source=mapsource)\n",
    "    plt.savefig('Output/Images/esr_map.svg', dpi=300)\n",
    "   \n",
    "if not map_strat.empty:\n",
    "    fig,ax = plt.subplots(figsize = (8,4))\n",
    "    xlim = ([unc_plot.total_bounds[0]-2,  unc_plot.total_bounds[2]+2])\n",
    "    ylim = ([unc_plot.total_bounds[1]-2,  unc_plot.total_bounds[3]+2])\n",
    "    ax.set_xlim(xlim)\n",
    "    ax.set_ylim(ylim)\n",
    "    ax.set_axis_off()\n",
    "    ax.set_title('Chronostratigraphic constraints (n={})'.format(len(map_strat)),fontsize=18)\n",
    "    points=ax.scatter(map_strat['Longitude (decimal degrees)'].astype(float),\n",
    "               map_strat['Latitude (decimal degrees)'].astype(float),\n",
    "               marker='o',s=150,alpha=0.3,edgecolors='k',c='white')\n",
    "    ctx.add_basemap(ax, crs='EPSG:4326',source=mapsource)\n",
    "    plt.savefig('Output/Images/chronostratigraphy_map.svg', dpi=300)\n",
    "    \n",
    "if not map_other.empty:\n",
    "    fig,ax = plt.subplots(figsize = (8,4))\n",
    "    xlim = ([unc_plot.total_bounds[0]-2,  unc_plot.total_bounds[2]+2])\n",
    "    ylim = ([unc_plot.total_bounds[1]-2,  unc_plot.total_bounds[3]+2])\n",
    "    ax.set_xlim(xlim)\n",
    "    ax.set_ylim(ylim)\n",
    "    ax.set_axis_off()\n",
    "    ax.set_title('Other age constraints (n={})'.format(len(map_other)),fontsize=18)\n",
    "    points=ax.scatter(map_other['Longitude (decimal degrees)'].astype(float),\n",
    "               map_other['Latitude (decimal degrees)'].astype(float),\n",
    "               marker='o',s=150,alpha=0.3,edgecolors='k',c='white')\n",
    "    ctx.add_basemap(ax, crs='EPSG:4326',source=mapsource)\n",
    "    plt.savefig('Output/Images/other_map.svg', dpi=300)\n",
    "\n",
    "print('For the maps, remember to use the following attribution: ' + attribution)\n"
   ]
  },
  {
   "cell_type": "code",
   "execution_count": null,
   "metadata": {
    "scrolled": false
   },
   "outputs": [],
   "source": [
    "# Set the elevation range for color scale in map\n",
    "min_elev=-50\n",
    "max_elev=50\n",
    "\n",
    "%run -i scripts/Static_maps.py\n",
    "%run -i scripts/age_kde.py\n",
    "\n",
    "print ('Figures have been saved here: {}'.format(path+'/Output/Images/'))"
   ]
  },
  {
   "cell_type": "markdown",
   "metadata": {},
   "source": [
    "# Plot maps\n",
    "The following code saves two HTML map of the data, including RSL indicators and samples."
   ]
  },
  {
   "cell_type": "code",
   "execution_count": null,
   "metadata": {},
   "outputs": [],
   "source": [
    "#define the colormap limits in meters\n",
    "min_colorbar=-50\n",
    "max_colorbar=50\n",
    "\n",
    "%run -i scripts/plot_maps_bokeh.py\n",
    "%run -i scripts/plot_maps_leaflet.py"
   ]
  },
  {
   "cell_type": "markdown",
   "metadata": {},
   "source": [
    "# Make data analysis\n",
    "This section takes the \"Summary.csv\" file and performs some basic data analysis on it."
   ]
  },
  {
   "cell_type": "markdown",
   "metadata": {},
   "source": [
    "## Calculate RSL percentiles\n",
    "Then, the script takes information on relative sea level values and calculates RSL percentiles in the following way.\n",
    "1. If the RSL Indicator is a \"Single Coral\": the percentiles are obtained from a gamma function interpolated considering the upper limit of living range inserted in the database as, respectively, the 2.3 and 97.7 percentiles of the distribution.\n",
    "2. If the RSL Indicator is a \"Sea Level Indicator\" or \"Single Speleothem\": the percentiles on paleo RSL are calculated from the gaussian distribution represented by the field \"Paleo RSL (m)\" and its associated uncertainty (1-sigma).\n",
    "3. If the RSL Indicator is a \"Terrestrial Limiting\" or \"Marine Limiting\", the RSL percentiles are not calculated."
   ]
  },
  {
   "cell_type": "markdown",
   "metadata": {},
   "source": [
    "## Calculate age percentiles\n",
    "The following script takes information on age values and calculates age percentiles according to the table below. The following modifications are done on the original data:\n",
    " \n",
    " - If a percentile goes below zero, it is set to zero.\n",
    " - If Lower age > Upper age, the two values are reversed.\n",
    " - If there is no age, the corresponding record is deleted."
   ]
  },
  {
   "cell_type": "markdown",
   "metadata": {},
   "source": [
    "| Dating technique | Pre-selection | Lower age | Age (ka) 0.1 perc | Age (ka) 2.3 perc | Age (ka) 15.9 perc | Age (ka) 50 perc | Age (ka) 84.1 perc | Age (ka) 97.7 perc | Age (ka) 99.5 perc | Upper age |\n",
    "|-|-|-|-|-|-|-|-|-|-|-|\n",
    "| U-series / coral | Recalculated age used if available. If not, Reported age is used | NaN | Average age - 3 Sigma age | Average age - 2 Sigma age | Average age - 1 Sigma age | Average age | Average age + 1 Sigma age | Average age + 2 Sigma age | Average age + 3 Sigma age | NaN |\n",
    "| U-series / speleothem | Recalculated age used if available. If not, Reported age is used | NaN | Average age - 3 Sigma age | Average age - 2 Sigma age | Average age - 1 Sigma age | Average age | Average age + 1 Sigma age | Average age + 2 Sigma age | Average age + 3 Sigma age | NaN |\n",
    "| U-series / mollusks or algae | Upper and lower age derived from the MIS to which the sample is associated with | Lower age |<--|--|--| Uniform distribution |--|--|-->| Upper age |\n",
    "| AAR / Age reported | | NaN | Average age - 3 Sigma age | Average age - 2 Sigma age | Average age - 1 Sigma age | Average age | Average age + 1 Sigma age | Average age + 2 Sigma age | Average age + 3 Sigma age | NaN |\n",
    "| AAR / Only MIS reported | Upper and lower age derived from the MIS to which the sample is associated with | Lower age |<--|--|--| Uniform distribution |--|--|-->| Upper age |\n",
    "| ESR / Age reported | | NaN | Average age - 3 Sigma age | Average age - 2 Sigma age | Average age - 1 Sigma age | Average age | Average age + 1 Sigma age | Average age + 2 Sigma age | Average age + 3 Sigma age | NaN |\n",
    "| ESR / Only MIS reported | Upper and lower age derived from the MIS to which the sample is associated with | Lower age |<--|--|--| Uniform distribution |--|--|-->| Upper age |\n",
    "| Luminescence / Age reported | | NaN | Average age - 3 Sigma age | Average age - 2 Sigma age | Average age - 1 Sigma age | Average age | Average age + 1 Sigma age | Average age + 2 Sigma age | Average age + 3 Sigma age | NaN |\n",
    "| Luminescence / Only MIS reported | Upper and lower age derived from the MIS to which the sample is associated with | Lower age |<--|--|--| Uniform distribution |--|--|-->| Upper age |\n",
    "| Stratigraphic constraint / Age reported| Upper and lower age derived from the reported age | Lower age |<--|--|--| Uniform distribution |--|--|-->| Upper age |\n",
    "| Stratigraphic constraint / Only MIS reported| Upper and lower age derived from the MIS to which the sample is associated with | Lower age |<--|--|--| Uniform distribution |--|--|-->| Upper age |\n",
    "| Other age constraint / Age reported| Upper and lower age derived from the reported age | Lower age |<--|--|--| Uniform distribution |--|--|-->| Upper age |\n",
    "| Other age constraint / Only MIS reported| Upper and lower age derived from the MIS to which the sample is associated with | Lower age |<--|--|--| Uniform distribution |--|--|-->| Upper age |"
   ]
  },
  {
   "cell_type": "code",
   "execution_count": null,
   "metadata": {},
   "outputs": [],
   "source": [
    "%run -i scripts/percentiles_from_summary.py"
   ]
  },
  {
   "cell_type": "markdown",
   "metadata": {},
   "source": [
    "# Create ZIP archive\n",
    "Create a ZIP archive of the entire \"Output\" folder."
   ]
  },
  {
   "cell_type": "code",
   "execution_count": null,
   "metadata": {},
   "outputs": [],
   "source": [
    "shutil.make_archive('Output', 'zip', Output_path)"
   ]
  },
  {
   "cell_type": "markdown",
   "metadata": {},
   "source": [
    "# Suggested acknowledgments\n",
    "WALIS is the result of the work of several people, within different projects. For this reason, we kindly ask you to follow these simple rules to properly acknowledge those who worked on it:\n",
    "\n",
    "1. Cite the original authors - Please maintain the original citations for each datapoint, to give proper credit to those who worked to collect the original data in the field or in the lab.\n",
    "2. Acknowledge the database contributor - The name of each contributor is listed in all public datapoints. This is the data creator, who spent time to make sure the data is standardized and (as much as possible) free of errors.\n",
    "3. Acknowledge the database structure and interface creators - The database template used in this study was developed by the ERC Starting Grant \"WARMCOASTS\" (ERC-StG-802414) and is a community effort under the PALSEA (PAGES / INQUA) working group.\n",
    "\n",
    "Example of acknowledgments: The data used in this study were *[extracted from / compiled in]* WALIS, a sea-level database interface developed by the ERC Starting Grant \"WARMCOASTS\" (ERC-StG-802414), in collaboration with PALSEA (PAGES / INQUA) working group. The database structure was designed by A. Rovere, D. Ryan, T. Lorscheid, A. Dutton, P. Chutcharavan, D. Brill, N. Jankowski, D. Mueller, M. Bartz, E. Gowan and K. Cohen. The data points used in this study were contributed to WALIS by *[list names of contributors here]*."
   ]
  },
  {
   "cell_type": "markdown",
   "metadata": {},
   "source": [
    "# Code Acknowledgments\n",
    "https://stackoverflow.com/questions/59617019/replace-comma-separated-values-in-a-dataframe-with-values-from-another-dataframe/59617707#59617707\n",
    "\n",
    "https://stackoverflow.com/questions/53818434/pandas-replacing-values-by-looking-up-in-an-another-dataframe\n",
    "\n",
    "https://gis.stackexchange.com/questions/147156/making-shapefile-from-pandas-dataframe\n",
    "\n",
    "https://riptutorial.com/pandas/example/25462/split--reshape--csv-strings-in-columns-into-multiple-rows--having-one-element-per-row\n",
    "\n",
    "https://stackoverflow.com/questions/56466917/is-there-a-way-in-pandas-to-remove-duplicates-from-within-a-series\n",
    "\n",
    "https://stackoverflow.com/questions/185936/how-to-delete-the-contents-of-a-folder\n",
    "\n",
    "http://michael-harmon.com/blog/IntroToBokeh.html\n",
    "\n",
    "https://stackoverflow.com/questions/37877708/how-to-turn-a-pandas-dataframe-row-into-a-comma-separated-string\n",
    "\n",
    "https://stackoverflow.com/questions/53082639/python-removing-the-contents-of-a-cell-based-on-a-specific-condition\n",
    "\n",
    "https://www.codeproject.com/Articles/56371/Finding-Probability-Distribution-Parameters-from-P\n",
    "\n",
    "https://stackoverflow.com/questions/44281863/saving-html-file-with-images-in-bokeh\n",
    "\n",
    "https://stackoverflow.com/questions/1855095/how-to-create-a-zip-archive-of-a-directory-in-python\n",
    "\n",
    "https://stackoverflow.com/questions/57507321/make-bokeh-plot-fill-the-entire-screen\n",
    "\n",
    "https://stackoverflow.com/questions/58162200/pre-determine-optimal-level-of-zoom-in-folium\n",
    "\n",
    "https://rawgit.com/agaidus/leaflet_webmaps_python/master/sf_crime_mapping_final.html\n",
    "\n",
    "https://github.com/dmvianna/leaflet_webmaps_python/blob/functional/sf_crime_mapping_final.ipynb\n",
    "\n",
    "https://towardsdatascience.com/collect-and-visualize-covid-19-data-336e4dc9ead\n",
    "\n",
    "https://stackoverflow.com/questions/11882393/matplotlib-disregard-outliers-when-plotting\n",
    "\n",
    "https://stackoverflow.com/questions/3279560/reverse-colormap-in-matplotlib\n",
    "\n",
    "https://stackoverflow.com/questions/18012505/python-pandas-dataframe-columns-convert-to-dict-key-and-value\n"
   ]
  }
 ],
 "metadata": {
  "kernelspec": {
   "display_name": "Python 3 (ipykernel)",
   "language": "python",
   "name": "python3"
  },
  "language_info": {
   "codemirror_mode": {
    "name": "ipython",
    "version": 3
   },
   "file_extension": ".py",
   "mimetype": "text/x-python",
   "name": "python",
   "nbconvert_exporter": "python",
   "pygments_lexer": "ipython3",
   "version": "3.7.11"
  }
 },
 "nbformat": 4,
 "nbformat_minor": 2
}
